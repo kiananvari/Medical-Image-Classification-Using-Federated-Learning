{
 "cells": [
  {
   "cell_type": "code",
   "execution_count": 1,
   "metadata": {},
   "outputs": [],
   "source": [
    "import torch\n",
    "import torch.nn as nn\n",
    "import torch.optim as optim\n",
    "from torch.utils.data import DataLoader, Dataset\n",
    "from torchvision.transforms import ToTensor, transforms\n",
    "import torch.nn.functional as F\n",
    "from typing import Optional\n",
    "\n",
    "from sklearn.model_selection import train_test_split\n",
    "from sklearn.metrics import precision_score, recall_score\n",
    "\n",
    "import cv2\n",
    "import matplotlib.pyplot as plt\n",
    "import numpy as np\n",
    "from tqdm import tqdm"
   ]
  },
  {
   "cell_type": "code",
   "execution_count": 3,
   "metadata": {},
   "outputs": [],
   "source": [
    "from torchvision.models import resnet18, resnet101, resnet50, ResNet18_Weights\n",
    "\n",
    "class ResNetClassifier(nn.Module):\n",
    "    def __init__(self):\n",
    "        super(ResNetClassifier, self).__init__()\n",
    "        self.resnet = resnet18(weights=None)\n",
    "        num_features = self.resnet.fc.in_features\n",
    "        self.resnet.conv1 = nn.Conv2d(1, 64, kernel_size=7, stride=2, padding=3, bias=False)\n",
    "        self.resnet.fc = nn.Linear(num_features, 1)\n",
    "        self.sigmoid = nn.Sigmoid()\n",
    "\n",
    "    def forward(self, x):\n",
    "        x = self.resnet(x)\n",
    "        x = torch.squeeze(x, dim=1)\n",
    "        x = self.sigmoid(x)\n",
    "        return x"
   ]
  },
  {
   "cell_type": "code",
   "execution_count": 4,
   "metadata": {},
   "outputs": [],
   "source": [
    "from torchvision.models import resnet18\n",
    "import torch.nn as nn\n",
    "\n",
    "device = torch.device(\"cuda\" if torch.cuda.is_available() else \"cpu\")\n",
    "\n",
    "# Define the global model\n",
    "global_model = ResNetClassifier().to(device)\n",
    "\n",
    "# Iterate over the trained models\n",
    "model_paths = [\"../../LocalServers/saved_models/local_server_1_RESNET.pth\", \n",
    "               \"../../LocalServers/saved_models/local_server_2_RESNET.pth\", \n",
    "               \"../../LocalServers/saved_models/local_server_3_RESNET.pth\"]\n",
    "num_models = len(model_paths)\n"
   ]
  },
  {
   "cell_type": "code",
   "execution_count": 5,
   "metadata": {},
   "outputs": [],
   "source": [
    "# Load the trained models\n",
    "trained_models = []\n",
    "for path in model_paths:\n",
    "    model = ResNetClassifier().to(device)\n",
    "    model.load_state_dict(torch.load(path))\n",
    "    trained_models.append(model)"
   ]
  },
  {
   "cell_type": "code",
   "execution_count": 6,
   "metadata": {},
   "outputs": [
    {
     "data": {
      "text/plain": [
       "<All keys matched successfully>"
      ]
     },
     "execution_count": 6,
     "metadata": {},
     "output_type": "execute_result"
    }
   ],
   "source": [
    "# Initialize the global model's weights\n",
    "global_model.load_state_dict(trained_models[0].state_dict())"
   ]
  },
  {
   "cell_type": "code",
   "execution_count": 45,
   "metadata": {},
   "outputs": [],
   "source": [
    "# Initialize the global model's weights\n",
    "global_weights = global_model.state_dict()\n",
    "\n",
    "# Iterate over the trained models and calculate the sum of their weights\n",
    "for i in range(num_models):\n",
    "    local_weights = trained_models[i].state_dict()\n",
    "\n",
    "    # Accumulate the weights\n",
    "    for key in global_weights.keys():\n",
    "        global_weights[key] += local_weights[key]"
   ]
  },
  {
   "cell_type": "code",
   "execution_count": 46,
   "metadata": {},
   "outputs": [],
   "source": [
    "# Calculate the average by dividing the weights by the number of models\n",
    "for key in global_weights.keys():\n",
    "    global_weights[key] / num_models"
   ]
  },
  {
   "cell_type": "code",
   "execution_count": 47,
   "metadata": {},
   "outputs": [],
   "source": [
    "# Save the global model\n",
    "torch.save(global_model.state_dict(), \"AVG_global_model.pth\")"
   ]
  },
  {
   "cell_type": "code",
   "execution_count": null,
   "metadata": {},
   "outputs": [],
   "source": []
  }
 ],
 "metadata": {
  "kernelspec": {
   "display_name": "Python 3",
   "language": "python",
   "name": "python3"
  },
  "language_info": {
   "codemirror_mode": {
    "name": "ipython",
    "version": 3
   },
   "file_extension": ".py",
   "mimetype": "text/x-python",
   "name": "python",
   "nbconvert_exporter": "python",
   "pygments_lexer": "ipython3",
   "version": "3.11.4"
  }
 },
 "nbformat": 4,
 "nbformat_minor": 2
}
