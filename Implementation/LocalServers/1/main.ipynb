{
 "cells": [
  {
   "cell_type": "code",
   "execution_count": 1,
   "metadata": {},
   "outputs": [],
   "source": [
    "import torch\n",
    "import torch.nn as nn\n",
    "import torch.optim as optim\n",
    "from torch.utils.data import DataLoader, Dataset\n",
    "from torchvision.transforms import ToTensor, transforms\n",
    "import torch.nn.functional as F\n",
    "from typing import Optional\n",
    "\n",
    "from sklearn.model_selection import train_test_split\n",
    "from sklearn.metrics import precision_score, recall_score\n",
    "\n",
    "import cv2\n",
    "import matplotlib.pyplot as plt\n",
    "import numpy as np\n",
    "from tqdm import tqdm"
   ]
  },
  {
   "cell_type": "markdown",
   "metadata": {},
   "source": [
    "# COVID_NET"
   ]
  },
  {
   "cell_type": "code",
   "execution_count": 2,
   "metadata": {},
   "outputs": [],
   "source": [
    "class Flatten(nn.Module):\n",
    "    \"\"\"Flattens the input tensor for use in the neural network.\n",
    "\n",
    "    This class defines the operation to flatten an input tensor.\n",
    "    \"\"\"\n",
    "\n",
    "    def forward(self, input: torch.Tensor) -> torch.Tensor:\n",
    "        \"\"\"Flattens the input tensor.\n",
    "\n",
    "        Args:\n",
    "            input (torch.Tensor): The input tensor.\n",
    "\n",
    "        Returns:\n",
    "            torch.Tensor: The flattened tensor.\n",
    "        \"\"\"\n",
    "        return input.view(input.size(0), -1)\n",
    "\n",
    "\n",
    "class PEPX(nn.Module):\n",
    "    \"\"\"Defines the PEPX Convolutional Neural Network architecture.\n",
    "\n",
    "    This class creates a PEPX model, which contains several convolutional layers\n",
    "    for feature projection, expansion, depth-wise representation, second-stage\n",
    "    projection, and final extension.\n",
    "\n",
    "    Args:\n",
    "        n_input (int): The number of input features.\n",
    "        n_out (int): The number of output features.\n",
    "\n",
    "    Attributes:\n",
    "        network (nn.Sequential): The neural network layers.\n",
    "    \"\"\"\n",
    "\n",
    "    def __init__(self, n_input: int, n_out: int):\n",
    "        super(PEPX, self).__init__()  # Call the __init__() method of the parent class\n",
    "        self.network = nn.Sequential(nn.Conv2d(in_channels=n_input, out_channels=n_input // 2, kernel_size=1),\n",
    "                                     nn.Conv2d(in_channels=n_input // 2, out_channels=int(3 * n_input / 4),\n",
    "                                               kernel_size=1),\n",
    "                                     nn.Conv2d(in_channels=int(3 * n_input / 4), out_channels=int(3 * n_input / 4),\n",
    "                                               kernel_size=3, groups=int(3 * n_input / 4), padding=1),\n",
    "                                     nn.Conv2d(in_channels=int(3 * n_input / 4), out_channels=n_input // 2,\n",
    "                                               kernel_size=1),\n",
    "                                     nn.Conv2d(in_channels=n_input // 2, out_channels=n_out, kernel_size=1),\n",
    "                                     nn.BatchNorm2d(n_out))\n",
    "        for m in self.modules():\n",
    "            if isinstance(m, nn.Conv2d):\n",
    "                nn.init.kaiming_normal_(m.weight, mode='fan_out', nonlinearity='relu')\n",
    "            elif isinstance(m, (nn.BatchNorm2d, nn.GroupNorm)):\n",
    "                nn.init.constant_(m.weight, 1)\n",
    "                nn.init.constant_(m.bias, 0)\n",
    "\n",
    "    def forward(self, x: torch.Tensor) -> torch.Tensor:\n",
    "        \"\"\"Defines the forward pass of the PEPX model.\n",
    "\n",
    "        Args:\n",
    "            x (torch.Tensor): The input tensor.\n",
    "\n",
    "        Returns:\n",
    "            torch.Tensor: The output tensor, result of the forward pass of the model.\n",
    "        \"\"\"\n",
    "        return self.network(x)\n",
    "\n",
    "class CovidNet(nn.Module):\n",
    "    \"\"\"Defines the CovidNet model architecture for classification tasks.\n",
    "\n",
    "    The architecture consists of a sequence of PEPX blocks and linear layers. It can be built\n",
    "    in a small or large configuration depending on the model parameter.\n",
    "\n",
    "    Args:\n",
    "        model (str): Model type, either 'small' or 'large'. Defaults to 'small'.\n",
    "        n_classes (int): Number of classes for the final classification. Defaults to 3.\n",
    "\n",
    "    Attributes:\n",
    "        All the PEPX blocks and other layers in the network.\n",
    "    \"\"\"\n",
    "\n",
    "    def __init__(self, model: str = 'small', n_classes: int = 2):\n",
    "        super(CovidNet, self).__init__()\n",
    "\n",
    "        filters = {\n",
    "            'pepx1_1': [56, 56],\n",
    "            'pepx1_2': [56, 56],\n",
    "            'pepx1_3': [56, 56],\n",
    "            'pepx2_1': [56, 112],\n",
    "            'pepx2_2': [112, 112],\n",
    "            'pepx2_3': [112, 112],\n",
    "            'pepx2_4': [112, 112],\n",
    "            'pepx3_1': [112, 216],\n",
    "            'pepx3_2': [216, 216],\n",
    "            'pepx3_3': [216, 216],\n",
    "            'pepx3_4': [216, 216],\n",
    "            'pepx3_5': [216, 216],\n",
    "            'pepx3_6': [216, 216],\n",
    "            'pepx4_1': [216, 424],\n",
    "            'pepx4_2': [424, 424],\n",
    "            'pepx4_3': [424, 424],\n",
    "        }\n",
    "\n",
    "        self.add_module('conv1', nn.Conv2d(in_channels=1, out_channels=56, kernel_size=7, stride=2, padding=3))\n",
    "        for key in filters:\n",
    "\n",
    "            if ('pool' in key):\n",
    "                self.add_module(key, nn.MaxPool2d(filters[key][0], filters[key][1]))\n",
    "            else:\n",
    "                self.add_module(key, PEPX(filters[key][0], filters[key][1]))\n",
    "\n",
    "        if (model == 'large'):\n",
    "\n",
    "            self.add_module('conv1_1x1', nn.Conv2d(in_channels=56, out_channels=112, kernel_size=1))\n",
    "            self.add_module('conv2_1x1', nn.Conv2d(in_channels=112, out_channels=216, kernel_size=1))\n",
    "            self.add_module('conv3_1x1', nn.Conv2d(in_channels=216, out_channels=424, kernel_size=1))\n",
    "            self.add_module('conv4_1x1', nn.Conv2d(in_channels=424, out_channels=424, kernel_size=1))\n",
    "\n",
    "            self.__forward__ = self.forward_large_net\n",
    "        else:\n",
    "            self.__forward__ = self.forward_small_net\n",
    "        self.add_module('flatten', Flatten())\n",
    "        self.add_module('fc1', nn.Linear(27136, 512))\n",
    "\n",
    "        self.add_module('classifier', nn.Linear(512, 1))\n",
    "        self.sigmoid = nn.Sigmoid()\n",
    "\n",
    "        self._initialize_weights()\n",
    "\n",
    "    def _initialize_weights(self):\n",
    "        for m in self.modules():\n",
    "            if isinstance(m, nn.Conv2d):\n",
    "                nn.init.kaiming_normal_(m.weight, mode='fan_out', nonlinearity='relu')\n",
    "            elif isinstance(m, (nn.BatchNorm2d, nn.GroupNorm)):\n",
    "                nn.init.constant_(m.weight, 1)\n",
    "                nn.init.constant_(m.bias, 0)\n",
    "    def forward(self, x: torch.Tensor) -> torch.Tensor:\n",
    "        \"\"\"Defines the computation performed at every call.\n",
    "\n",
    "        Args:\n",
    "            x (torch.Tensor): The input tensor.\n",
    "\n",
    "        Returns:\n",
    "            torch.Tensor: The output tensor.\n",
    "        \"\"\"\n",
    "        return self.__forward__(x)\n",
    "\n",
    "    def forward_small_net(self, x: torch.Tensor) -> torch.Tensor:\n",
    "        \"\"\"Defines the forward pass for the small model variant.\n",
    "\n",
    "        Args:\n",
    "            x (torch.Tensor): The input tensor.\n",
    "\n",
    "        Returns:\n",
    "            torch.Tensor: The output tensor, result of the forward pass of the small model.\n",
    "        \"\"\"\n",
    "        x = F.max_pool2d(F.relu(self.conv1(x)), 2)\n",
    "\n",
    "        pepx11 = self.pepx1_1(x)\n",
    "        pepx12 = self.pepx1_2(pepx11)\n",
    "        pepx13 = self.pepx1_3(pepx12 + pepx11)\n",
    "\n",
    "        pepx21 = self.pepx2_1(F.max_pool2d(pepx13, 2) + F.max_pool2d(pepx11, 2) + F.max_pool2d(pepx12, 2))\n",
    "        pepx22 = self.pepx2_2(pepx21)\n",
    "        pepx23 = self.pepx2_3(pepx22 + pepx21)\n",
    "        pepx24 = self.pepx2_4(pepx23 + pepx21 + pepx22)\n",
    "\n",
    "        pepx31 = self.pepx3_1(\n",
    "            F.max_pool2d(pepx24, 2) + F.max_pool2d(pepx21, 2) + F.max_pool2d(pepx22, 2) + F.max_pool2d(pepx23, 2))\n",
    "        pepx32 = self.pepx3_2(pepx31)\n",
    "        pepx33 = self.pepx3_3(pepx31 + pepx32)\n",
    "        pepx34 = self.pepx3_4(pepx31 + pepx32 + pepx33)\n",
    "        pepx35 = self.pepx3_5(pepx31 + pepx32 + pepx33 + pepx34)\n",
    "        pepx36 = self.pepx3_6(pepx31 + pepx32 + pepx33 + pepx34 + pepx35)\n",
    "\n",
    "        pepx41 = self.pepx4_1(\n",
    "            F.max_pool2d(pepx31, 2) + F.max_pool2d(pepx32, 2) + F.max_pool2d(pepx32, 2) + F.max_pool2d(pepx34,\n",
    "                                                                                                       2) + F.max_pool2d(\n",
    "                pepx35, 2) + F.max_pool2d(pepx36, 2))\n",
    "        pepx42 = self.pepx4_2(pepx41)\n",
    "        pepx43 = self.pepx4_3(pepx41 + pepx42)\n",
    "        flattened = self.flatten(pepx41 + pepx42 + pepx43)\n",
    "\n",
    "        fc1out = F.relu(self.fc1(flattened))\n",
    "        # fc2out = F.relu(self.fc2(fc1out))\n",
    "        logits = self.classifier(fc1out)\n",
    "        logits = torch.squeeze(logits, dim=1)\n",
    "        logits = self.sigmoid(logits)\n",
    "\n",
    "        return logits"
   ]
  },
  {
   "cell_type": "code",
   "execution_count": 3,
   "metadata": {},
   "outputs": [],
   "source": [
    "class CovidNetDataset(Dataset):\n",
    "    def __init__(self, data):\n",
    "        self.data = data\n",
    "        self.transform = transforms.Compose([\n",
    "            transforms.ToTensor(),\n",
    "            transforms.Grayscale()  # Added transform to convert to grayscale\n",
    "        ])\n",
    "\n",
    "    def __len__(self):\n",
    "        return len(self.data)\n",
    "\n",
    "    def __getitem__(self, index):\n",
    "        image, label = self.data[index]\n",
    "        image = (image - image.min()) / (image.max() - image.min()) \n",
    "        image = cv2.resize(image, (256, 256))\n",
    "        image = self.transform(image).float()\n",
    "\n",
    "        return image, label"
   ]
  },
  {
   "cell_type": "code",
   "execution_count": 4,
   "metadata": {},
   "outputs": [
    {
     "name": "stderr",
     "output_type": "stream",
     "text": [
      "Processing label 0: 100%|██████████| 2007/2007 [00:44<00:00, 44.68it/s]\n",
      "Processing label 1: 100%|██████████| 2055/2055 [00:54<00:00, 38.05it/s]\n"
     ]
    }
   ],
   "source": [
    "import os\n",
    "import numpy as np\n",
    "from tqdm import tqdm\n",
    "from skimage import io\n",
    "\n",
    "# Path to the Dataset folder\n",
    "dataset_folder = \"./Dataset\"\n",
    "\n",
    "# List to store the dataset\n",
    "dataset = []\n",
    "\n",
    "# Iterate over the subfolders (0 and 1)\n",
    "for label in [\"0\", \"1\"]:\n",
    "    label_folder = os.path.join(dataset_folder, label)\n",
    "\n",
    "    # Iterate over the images in the label folder\n",
    "    for image_file in tqdm(os.listdir(label_folder), desc=f\"Processing label {label}\"):\n",
    "        if image_file.endswith(\".png\"):\n",
    "            image_path = os.path.join(label_folder, image_file)\n",
    "\n",
    "            # Load the image using skimage's io.imread\n",
    "            image = io.imread(image_path)\n",
    "            # Append the image and label to the dataset list\n",
    "            dataset.append((image, int(label)))"
   ]
  },
  {
   "cell_type": "code",
   "execution_count": 5,
   "metadata": {},
   "outputs": [
    {
     "name": "stdout",
     "output_type": "stream",
     "text": [
      "Number of images in the dataset: 4060\n",
      "(array([[0, 0, 0, ..., 0, 0, 0],\n",
      "       [0, 0, 0, ..., 0, 0, 0],\n",
      "       [0, 0, 0, ..., 0, 0, 0],\n",
      "       ...,\n",
      "       [0, 0, 0, ..., 0, 0, 0],\n",
      "       [0, 0, 0, ..., 0, 0, 0],\n",
      "       [0, 0, 0, ..., 0, 0, 0]], dtype=uint8), 0)\n"
     ]
    }
   ],
   "source": [
    "# Print the number of images in the dataset\n",
    "print(\"Number of images in the dataset:\", len(dataset))\n",
    "print(dataset[0])"
   ]
  },
  {
   "cell_type": "code",
   "execution_count": 6,
   "metadata": {},
   "outputs": [],
   "source": [
    "# Split the dataset into training and test sets\n",
    "train_dataset, test_dataset = train_test_split(dataset, test_size=0.2, random_state=42)\n",
    "\n",
    "# Split the test set into validation and final test sets\n",
    "val_dataset, test_dataset = train_test_split(test_dataset, test_size=0.5, random_state=42)\n",
    "\n",
    "# Create data loaders\n",
    "batch_size = 16\n",
    "train_loader = DataLoader(CovidNetDataset(train_dataset), batch_size=batch_size, shuffle=True)\n",
    "val_loader = DataLoader(CovidNetDataset(val_dataset), batch_size=batch_size, shuffle=True)\n",
    "test_loader = DataLoader(CovidNetDataset(test_dataset), batch_size=batch_size, shuffle=True)\n",
    "\n",
    "# Initialize the ResNet classifier\n",
    "device = torch.device(\"cuda\" if torch.cuda.is_available() else \"cpu\")\n",
    "num_classes = 2"
   ]
  },
  {
   "cell_type": "code",
   "execution_count": 7,
   "metadata": {},
   "outputs": [
    {
     "data": {
      "image/png": "[encoded data removed]",
      "text/plain": [
       "<Figure size 1080x216 with 10 Axes>"
      ]
     },
     "metadata": {
      "needs_background": "light"
     },
     "output_type": "display_data"
    }
   ],
   "source": [
    "import matplotlib.pyplot as plt\n",
    "\n",
    "# Function to visualize images with labels\n",
    "def visualize_images(dataset, num_images=10):\n",
    "    fig, axes = plt.subplots(1, num_images, figsize=(15, 3))\n",
    "\n",
    "    for i in range(num_images):\n",
    "        image, label = dataset[i]\n",
    "        axes[i].imshow(image, cmap=\"gray\")\n",
    "        axes[i].set_title(f\"Label: {label}\")\n",
    "        axes[i].axis('off')\n",
    "\n",
    "    plt.tight_layout()\n",
    "    plt.show()\n",
    "\n",
    "# Visualize some images from the train dataset\n",
    "visualize_images(train_dataset)"
   ]
  },
  {
   "cell_type": "code",
   "execution_count": null,
   "metadata": {},
   "outputs": [],
   "source": [
    "model = CovidNet().to(device)\n",
    "\n",
    "criterion = nn.BCELoss()\n",
    "optimizer = optim.Adam(model.parameters(), lr=0.001)"
   ]
  },
  {
   "cell_type": "code",
   "execution_count": null,
   "metadata": {},
   "outputs": [
    {
     "data": {
      "text/plain": [
       "CovidNet(\n",
       "  (conv1): Conv2d(1, 56, kernel_size=(7, 7), stride=(2, 2), padding=(3, 3))\n",
       "  (pepx1_1): PEPX(\n",
       "    (network): Sequential(\n",
       "      (0): Conv2d(56, 28, kernel_size=(1, 1), stride=(1, 1))\n",
       "      (1): Conv2d(28, 42, kernel_size=(1, 1), stride=(1, 1))\n",
       "      (2): Conv2d(42, 42, kernel_size=(3, 3), stride=(1, 1), padding=(1, 1), groups=42)\n",
       "      (3): Conv2d(42, 28, kernel_size=(1, 1), stride=(1, 1))\n",
       "      (4): Conv2d(28, 56, kernel_size=(1, 1), stride=(1, 1))\n",
       "      (5): BatchNorm2d(56, eps=1e-05, momentum=0.1, affine=True, track_running_stats=True)\n",
       "    )\n",
       "  )\n",
       "  (pepx1_2): PEPX(\n",
       "    (network): Sequential(\n",
       "      (0): Conv2d(56, 28, kernel_size=(1, 1), stride=(1, 1))\n",
       "      (1): Conv2d(28, 42, kernel_size=(1, 1), stride=(1, 1))\n",
       "      (2): Conv2d(42, 42, kernel_size=(3, 3), stride=(1, 1), padding=(1, 1), groups=42)\n",
       "      (3): Conv2d(42, 28, kernel_size=(1, 1), stride=(1, 1))\n",
       "      (4): Conv2d(28, 56, kernel_size=(1, 1), stride=(1, 1))\n",
       "      (5): BatchNorm2d(56, eps=1e-05, momentum=0.1, affine=True, track_running_stats=True)\n",
       "    )\n",
       "  )\n",
       "  (pepx1_3): PEPX(\n",
       "    (network): Sequential(\n",
       "      (0): Conv2d(56, 28, kernel_size=(1, 1), stride=(1, 1))\n",
       "      (1): Conv2d(28, 42, kernel_size=(1, 1), stride=(1, 1))\n",
       "      (2): Conv2d(42, 42, kernel_size=(3, 3), stride=(1, 1), padding=(1, 1), groups=42)\n",
       "      (3): Conv2d(42, 28, kernel_size=(1, 1), stride=(1, 1))\n",
       "      (4): Conv2d(28, 56, kernel_size=(1, 1), stride=(1, 1))\n",
       "      (5): BatchNorm2d(56, eps=1e-05, momentum=0.1, affine=True, track_running_stats=True)\n",
       "    )\n",
       "  )\n",
       "  (pepx2_1): PEPX(\n",
       "    (network): Sequential(\n",
       "      (0): Conv2d(56, 28, kernel_size=(1, 1), stride=(1, 1))\n",
       "      (1): Conv2d(28, 42, kernel_size=(1, 1), stride=(1, 1))\n",
       "      (2): Conv2d(42, 42, kernel_size=(3, 3), stride=(1, 1), padding=(1, 1), groups=42)\n",
       "      (3): Conv2d(42, 28, kernel_size=(1, 1), stride=(1, 1))\n",
       "      (4): Conv2d(28, 112, kernel_size=(1, 1), stride=(1, 1))\n",
       "      (5): BatchNorm2d(112, eps=1e-05, momentum=0.1, affine=True, track_running_stats=True)\n",
       "    )\n",
       "  )\n",
       "  (pepx2_2): PEPX(\n",
       "    (network): Sequential(\n",
       "      (0): Conv2d(112, 56, kernel_size=(1, 1), stride=(1, 1))\n",
       "      (1): Conv2d(56, 84, kernel_size=(1, 1), stride=(1, 1))\n",
       "      (2): Conv2d(84, 84, kernel_size=(3, 3), stride=(1, 1), padding=(1, 1), groups=84)\n",
       "      (3): Conv2d(84, 56, kernel_size=(1, 1), stride=(1, 1))\n",
       "      (4): Conv2d(56, 112, kernel_size=(1, 1), stride=(1, 1))\n",
       "      (5): BatchNorm2d(112, eps=1e-05, momentum=0.1, affine=True, track_running_stats=True)\n",
       "    )\n",
       "  )\n",
       "  (pepx2_3): PEPX(\n",
       "    (network): Sequential(\n",
       "      (0): Conv2d(112, 56, kernel_size=(1, 1), stride=(1, 1))\n",
       "      (1): Conv2d(56, 84, kernel_size=(1, 1), stride=(1, 1))\n",
       "      (2): Conv2d(84, 84, kernel_size=(3, 3), stride=(1, 1), padding=(1, 1), groups=84)\n",
       "      (3): Conv2d(84, 56, kernel_size=(1, 1), stride=(1, 1))\n",
       "      (4): Conv2d(56, 112, kernel_size=(1, 1), stride=(1, 1))\n",
       "      (5): BatchNorm2d(112, eps=1e-05, momentum=0.1, affine=True, track_running_stats=True)\n",
       "    )\n",
       "  )\n",
       "  (pepx2_4): PEPX(\n",
       "    (network): Sequential(\n",
       "      (0): Conv2d(112, 56, kernel_size=(1, 1), stride=(1, 1))\n",
       "      (1): Conv2d(56, 84, kernel_size=(1, 1), stride=(1, 1))\n",
       "      (2): Conv2d(84, 84, kernel_size=(3, 3), stride=(1, 1), padding=(1, 1), groups=84)\n",
       "      (3): Conv2d(84, 56, kernel_size=(1, 1), stride=(1, 1))\n",
       "      (4): Conv2d(56, 112, kernel_size=(1, 1), stride=(1, 1))\n",
       "      (5): BatchNorm2d(112, eps=1e-05, momentum=0.1, affine=True, track_running_stats=True)\n",
       "    )\n",
       "  )\n",
       "  (pepx3_1): PEPX(\n",
       "    (network): Sequential(\n",
       "      (0): Conv2d(112, 56, kernel_size=(1, 1), stride=(1, 1))\n",
       "      (1): Conv2d(56, 84, kernel_size=(1, 1), stride=(1, 1))\n",
       "      (2): Conv2d(84, 84, kernel_size=(3, 3), stride=(1, 1), padding=(1, 1), groups=84)\n",
       "      (3): Conv2d(84, 56, kernel_size=(1, 1), stride=(1, 1))\n",
       "      (4): Conv2d(56, 216, kernel_size=(1, 1), stride=(1, 1))\n",
       "      (5): BatchNorm2d(216, eps=1e-05, momentum=0.1, affine=True, track_running_stats=True)\n",
       "    )\n",
       "  )\n",
       "  (pepx3_2): PEPX(\n",
       "    (network): Sequential(\n",
       "      (0): Conv2d(216, 108, kernel_size=(1, 1), stride=(1, 1))\n",
       "      (1): Conv2d(108, 162, kernel_size=(1, 1), stride=(1, 1))\n",
       "      (2): Conv2d(162, 162, kernel_size=(3, 3), stride=(1, 1), padding=(1, 1), groups=162)\n",
       "      (3): Conv2d(162, 108, kernel_size=(1, 1), stride=(1, 1))\n",
       "      (4): Conv2d(108, 216, kernel_size=(1, 1), stride=(1, 1))\n",
       "      (5): BatchNorm2d(216, eps=1e-05, momentum=0.1, affine=True, track_running_stats=True)\n",
       "    )\n",
       "  )\n",
       "  (pepx3_3): PEPX(\n",
       "    (network): Sequential(\n",
       "      (0): Conv2d(216, 108, kernel_size=(1, 1), stride=(1, 1))\n",
       "      (1): Conv2d(108, 162, kernel_size=(1, 1), stride=(1, 1))\n",
       "      (2): Conv2d(162, 162, kernel_size=(3, 3), stride=(1, 1), padding=(1, 1), groups=162)\n",
       "      (3): Conv2d(162, 108, kernel_size=(1, 1), stride=(1, 1))\n",
       "      (4): Conv2d(108, 216, kernel_size=(1, 1), stride=(1, 1))\n",
       "      (5): BatchNorm2d(216, eps=1e-05, momentum=0.1, affine=True, track_running_stats=True)\n",
       "    )\n",
       "  )\n",
       "  (pepx3_4): PEPX(\n",
       "    (network): Sequential(\n",
       "      (0): Conv2d(216, 108, kernel_size=(1, 1), stride=(1, 1))\n",
       "      (1): Conv2d(108, 162, kernel_size=(1, 1), stride=(1, 1))\n",
       "      (2): Conv2d(162, 162, kernel_size=(3, 3), stride=(1, 1), padding=(1, 1), groups=162)\n",
       "      (3): Conv2d(162, 108, kernel_size=(1, 1), stride=(1, 1))\n",
       "      (4): Conv2d(108, 216, kernel_size=(1, 1), stride=(1, 1))\n",
       "      (5): BatchNorm2d(216, eps=1e-05, momentum=0.1, affine=True, track_running_stats=True)\n",
       "    )\n",
       "  )\n",
       "  (pepx3_5): PEPX(\n",
       "    (network): Sequential(\n",
       "      (0): Conv2d(216, 108, kernel_size=(1, 1), stride=(1, 1))\n",
       "      (1): Conv2d(108, 162, kernel_size=(1, 1), stride=(1, 1))\n",
       "      (2): Conv2d(162, 162, kernel_size=(3, 3), stride=(1, 1), padding=(1, 1), groups=162)\n",
       "      (3): Conv2d(162, 108, kernel_size=(1, 1), stride=(1, 1))\n",
       "      (4): Conv2d(108, 216, kernel_size=(1, 1), stride=(1, 1))\n",
       "      (5): BatchNorm2d(216, eps=1e-05, momentum=0.1, affine=True, track_running_stats=True)\n",
       "    )\n",
       "  )\n",
       "  (pepx3_6): PEPX(\n",
       "    (network): Sequential(\n",
       "      (0): Conv2d(216, 108, kernel_size=(1, 1), stride=(1, 1))\n",
       "      (1): Conv2d(108, 162, kernel_size=(1, 1), stride=(1, 1))\n",
       "      (2): Conv2d(162, 162, kernel_size=(3, 3), stride=(1, 1), padding=(1, 1), groups=162)\n",
       "      (3): Conv2d(162, 108, kernel_size=(1, 1), stride=(1, 1))\n",
       "      (4): Conv2d(108, 216, kernel_size=(1, 1), stride=(1, 1))\n",
       "      (5): BatchNorm2d(216, eps=1e-05, momentum=0.1, affine=True, track_running_stats=True)\n",
       "    )\n",
       "  )\n",
       "  (pepx4_1): PEPX(\n",
       "    (network): Sequential(\n",
       "      (0): Conv2d(216, 108, kernel_size=(1, 1), stride=(1, 1))\n",
       "      (1): Conv2d(108, 162, kernel_size=(1, 1), stride=(1, 1))\n",
       "      (2): Conv2d(162, 162, kernel_size=(3, 3), stride=(1, 1), padding=(1, 1), groups=162)\n",
       "      (3): Conv2d(162, 108, kernel_size=(1, 1), stride=(1, 1))\n",
       "      (4): Conv2d(108, 424, kernel_size=(1, 1), stride=(1, 1))\n",
       "      (5): BatchNorm2d(424, eps=1e-05, momentum=0.1, affine=True, track_running_stats=True)\n",
       "    )\n",
       "  )\n",
       "  (pepx4_2): PEPX(\n",
       "    (network): Sequential(\n",
       "      (0): Conv2d(424, 212, kernel_size=(1, 1), stride=(1, 1))\n",
       "      (1): Conv2d(212, 318, kernel_size=(1, 1), stride=(1, 1))\n",
       "      (2): Conv2d(318, 318, kernel_size=(3, 3), stride=(1, 1), padding=(1, 1), groups=318)\n",
       "      (3): Conv2d(318, 212, kernel_size=(1, 1), stride=(1, 1))\n",
       "      (4): Conv2d(212, 424, kernel_size=(1, 1), stride=(1, 1))\n",
       "      (5): BatchNorm2d(424, eps=1e-05, momentum=0.1, affine=True, track_running_stats=True)\n",
       "    )\n",
       "  )\n",
       "  (pepx4_3): PEPX(\n",
       "    (network): Sequential(\n",
       "      (0): Conv2d(424, 212, kernel_size=(1, 1), stride=(1, 1))\n",
       "      (1): Conv2d(212, 318, kernel_size=(1, 1), stride=(1, 1))\n",
       "      (2): Conv2d(318, 318, kernel_size=(3, 3), stride=(1, 1), padding=(1, 1), groups=318)\n",
       "      (3): Conv2d(318, 212, kernel_size=(1, 1), stride=(1, 1))\n",
       "      (4): Conv2d(212, 424, kernel_size=(1, 1), stride=(1, 1))\n",
       "      (5): BatchNorm2d(424, eps=1e-05, momentum=0.1, affine=True, track_running_stats=True)\n",
       "    )\n",
       "  )\n",
       "  (flatten): Flatten()\n",
       "  (fc1): Linear(in_features=27136, out_features=512, bias=True)\n",
       "  (classifier): Linear(in_features=512, out_features=1, bias=True)\n",
       "  (sigmoid): Sigmoid()\n",
       ")"
      ]
     },
     "execution_count": 15,
     "metadata": {},
     "output_type": "execute_result"
    }
   ],
   "source": [
    "model"
   ]
  },
  {
   "cell_type": "code",
   "execution_count": null,
   "metadata": {},
   "outputs": [],
   "source": [
    "# Define empty lists to store loss and accuracy values\n",
    "train_losses = []\n",
    "val_losses = []\n",
    "train_accuracies = []\n",
    "val_accuracies = []\n",
    "\n",
    "best_val_accuracy = 0.0  # Track the best validation accuracy\n",
    "best_model_state_dict = None  # Store the state dict of the best model\n",
    "\n",
    "print(\"---------Training phase----------\")\n",
    "\n",
    "num_epochs = 10\n",
    "for epoch in range(num_epochs):\n",
    "    # Training phase\n",
    "    model.train()\n",
    "    train_loss = 0.0\n",
    "    train_correct = 0\n",
    "\n",
    "    train_predictions = []\n",
    "    train_true_labels = []\n",
    "\n",
    "    with tqdm(train_loader, desc=f\"Epoch {epoch + 1}/{num_epochs} - Train\", ncols=80) as pbar_train:\n",
    "        for images, labels in train_loader:\n",
    "            images = images.to(device)\n",
    "            labels = labels.to(device)\n",
    "\n",
    "            optimizer.zero_grad()\n",
    "\n",
    "            outputs = model(images)\n",
    "            predicted = torch.round(outputs)\n",
    "            train_correct += (predicted == labels).sum().item()\n",
    "            train_predictions.extend(predicted.tolist())\n",
    "            train_true_labels.extend(labels.tolist())\n",
    "\n",
    "            loss = criterion(outputs, labels.float())\n",
    "\n",
    "            loss.backward()\n",
    "            optimizer.step()\n",
    "\n",
    "            train_loss += loss.item() * images.size(0)\n",
    "            pbar_train.set_postfix({'Loss': loss.item()})\n",
    "            pbar_train.update()\n",
    "\n",
    "    train_accuracy = train_correct / len(train_dataset)\n",
    "    train_loss /= len(train_dataset)\n",
    "\n",
    "    # Validation phase\n",
    "    model.eval()\n",
    "\n",
    "    val_correct = 0\n",
    "    val_loss = 0.0\n",
    "    val_predictions = []\n",
    "    val_true_labels = []\n",
    "\n",
    "    with tqdm(val_loader, desc=f\"Epoch {epoch + 1}/{num_epochs} - Validation\", ncols=80) as pbar_val:\n",
    "        with torch.no_grad():\n",
    "            for images, labels in val_loader:\n",
    "                images = images.to(device)\n",
    "                labels = labels.to(device)\n",
    "\n",
    "                outputs = model(images)\n",
    "\n",
    "                predicted = torch.round(outputs)\n",
    "                val_correct += (predicted == labels).sum().item()\n",
    "                val_predictions.extend(predicted.tolist())\n",
    "                val_true_labels.extend(labels.tolist())\n",
    "\n",
    "                loss = criterion(outputs, labels.float())\n",
    "                val_loss += loss.item() * images.size(0)\n",
    "                pbar_val.set_postfix({'Loss': loss.item()})\n",
    "                pbar_val.update()\n",
    "\n",
    "    val_accuracy = val_correct / len(val_dataset)\n",
    "    val_loss /= len(val_dataset)\n",
    "    val_precision = precision_score(val_true_labels, val_predictions)\n",
    "    val_recall = recall_score(val_true_labels, val_predictions)\n",
    "\n",
    "    # Append accuracy and loss to the respective lists\n",
    "    train_losses.append(train_loss)\n",
    "    val_losses.append(val_loss)\n",
    "    train_accuracies.append(train_accuracy)\n",
    "    val_accuracies.append(val_accuracy)\n",
    "\n",
    "    # Check if the current validation accuracy is better than the previous best\n",
    "    if val_accuracy > best_val_accuracy:\n",
    "        print(\"The Best Model SAVED!\")\n",
    "        best_val_accuracy = val_accuracy\n",
    "        best_model_state_dict = model.state_dict()\n",
    "\n",
    "    # Print epoch statistics\n",
    "    print(f\"Epoch {epoch + 1}/{num_epochs} - Train Loss: {train_loss:.4f} - Train Acc: {train_accuracy:.4f} - \"\n",
    "          f\"Val Loss: {val_loss:.4f} - Val Acc: {val_accuracy:.4f} - Val Precision: {val_precision:.4f} - \"\n",
    "          f\"Val Recall: {val_recall:.4f}\")\n",
    "\n",
    "# Save the best model's state dictionary\n",
    "torch.save(best_model_state_dict, './local_server_1_COVIDNET.pth')"
   ]
  },
  {
   "cell_type": "code",
   "execution_count": null,
   "metadata": {},
   "outputs": [],
   "source": [
    "# Plotting the loss and accuracy curves\n",
    "plt.figure(figsize=(12, 6))\n",
    "plt.subplot(1, 2, 1)\n",
    "plt.plot(train_losses, label='Train')\n",
    "plt.plot(val_losses, label='Validation')\n",
    "plt.xlabel('Epoch')\n",
    "plt.ylabel('Loss')\n",
    "plt.title('Training and Validation Loss')\n",
    "plt.legend()\n",
    "\n",
    "plt.subplot(1, 2, 2)\n",
    "plt.plot(train_accuracies, label='Train')\n",
    "plt.plot(val_accuracies, label='Validation')\n",
    "plt.xlabel('Epoch')\n",
    "plt.ylabel('Accuracy')\n",
    "plt.title('Training and Validation Accuracy')\n",
    "plt.legend()\n",
    "\n",
    "plt.tight_layout()\n",
    "plt.show()"
   ]
  },
  {
   "cell_type": "code",
   "execution_count": null,
   "metadata": {},
   "outputs": [],
   "source": [
    "import numpy as np\n",
    "import seaborn as sns\n",
    "from sklearn.metrics import accuracy_score, precision_score, recall_score, f1_score, confusion_matrix\n",
    "\n",
    "# Load the saved best model's state dictionary\n",
    "best_model_state_dict = torch.load('./local_server_1_COVIDNET.pth')\n",
    "\n",
    "# Set the best model's state dictionary to the model\n",
    "model.load_state_dict(best_model_state_dict)\n",
    "\n",
    "# Testing phase\n",
    "model.eval()\n",
    "test_predictions = []\n",
    "test_true_labels = []\n",
    "\n",
    "with torch.no_grad():\n",
    "    for images, labels in test_loader:\n",
    "        images = images.to(device)\n",
    "        labels = labels.to(device)\n",
    "\n",
    "        outputs = model(images)\n",
    "\n",
    "        predicted = torch.round(outputs)\n",
    "        test_predictions.extend(predicted.tolist())\n",
    "        test_true_labels.extend(labels.tolist())\n",
    "\n",
    "# Calculate performance metrics\n",
    "test_accuracy = accuracy_score(test_true_labels, test_predictions)\n",
    "test_precision = precision_score(test_true_labels, test_predictions)\n",
    "test_recall = recall_score(test_true_labels, test_predictions)\n",
    "test_f1_score = f1_score(test_true_labels, test_predictions)\n"
   ]
  },
  {
   "cell_type": "code",
   "execution_count": null,
   "metadata": {},
   "outputs": [],
   "source": [
    "# Print performance metrics\n",
    "print(f\"Test Accuracy: {test_accuracy:.4f}\")\n",
    "print(f\"Test Precision: {test_precision:.4f}\")\n",
    "print(f\"Test Recall: {test_recall:.4f}\")\n",
    "print(f\"Test F1 Score: {test_f1_score:.4f}\")\n",
    "\n",
    "# Create confusion matrix\n",
    "cm = confusion_matrix(test_true_labels, test_predictions)\n",
    "\n",
    "# Plot confusion matrix\n",
    "class_names = ['Negative', 'Positive']  # Modify class names based on your dataset\n",
    "plt.figure(figsize=(6, 6))\n",
    "sns.heatmap(cm, annot=True, fmt=\"d\", cmap=\"Blues\", cbar=False, square=True,\n",
    "            xticklabels=class_names, yticklabels=class_names)\n",
    "plt.xlabel('Predicted')\n",
    "plt.ylabel('True')\n",
    "plt.title('Confusion Matrix')\n",
    "plt.show()"
   ]
  },
  {
   "cell_type": "markdown",
   "metadata": {},
   "source": [
    "# RESNET"
   ]
  },
  {
   "cell_type": "code",
   "execution_count": 9,
   "metadata": {},
   "outputs": [],
   "source": [
    "from torchvision.models import resnet18, resnet101, resnet50, ResNet18_Weights\n",
    "\n",
    "class ResNetClassifier(nn.Module):\n",
    "    def __init__(self):\n",
    "        super(ResNetClassifier, self).__init__()\n",
    "        self.resnet = resnet18(weights=None)\n",
    "        num_features = self.resnet.fc.in_features\n",
    "        self.resnet.conv1 = nn.Conv2d(1, 64, kernel_size=7, stride=2, padding=3, bias=False)\n",
    "        self.resnet.fc = nn.Linear(num_features, 1)\n",
    "        self.sigmoid = nn.Sigmoid()\n",
    "\n",
    "    def forward(self, x):\n",
    "        x = self.resnet(x)\n",
    "        x = torch.squeeze(x, dim=1)\n",
    "        x = self.sigmoid(x)\n",
    "        return x"
   ]
  },
  {
   "cell_type": "code",
   "execution_count": 10,
   "metadata": {},
   "outputs": [],
   "source": [
    "model = ResNetClassifier().to(device)\n",
    "\n",
    "criterion = nn.BCELoss()\n",
    "optimizer = optim.Adam(model.parameters(), lr=0.001)"
   ]
  },
  {
   "cell_type": "code",
   "execution_count": 24,
   "metadata": {},
   "outputs": [
    {
     "name": "stdout",
     "output_type": "stream",
     "text": [
      "---------Training phase----------\n"
     ]
    },
    {
     "name": "stderr",
     "output_type": "stream",
     "text": [
      "Epoch 1/20 - Train: 100%|█████████| 203/203 [00:26<00:00,  7.62it/s, Loss=0.303]\n",
      "Epoch 1/20 - Validation: 100%|█████| 26/26 [00:02<00:00, 11.85it/s, Loss=0.0786]\n"
     ]
    },
    {
     "name": "stdout",
     "output_type": "stream",
     "text": [
      "The Best Model SAVED!\n",
      "Epoch 1/20 - Train Loss: 0.3492 - Train Acc: 0.8381 - Val Loss: 0.3795 - Val Acc: 0.7611 - Val Precision: 0.6850 - Val Recall: 0.9110\n"
     ]
    },
    {
     "name": "stderr",
     "output_type": "stream",
     "text": [
      "Epoch 2/20 - Train: 100%|█████████| 203/203 [00:27<00:00,  7.36it/s, Loss=0.377]\n",
      "Epoch 2/20 - Validation: 100%|██████| 26/26 [00:02<00:00, 12.06it/s, Loss=0.338]\n"
     ]
    },
    {
     "name": "stdout",
     "output_type": "stream",
     "text": [
      "The Best Model SAVED!\n",
      "Epoch 2/20 - Train Loss: 0.2538 - Train Acc: 0.8889 - Val Loss: 0.2708 - Val Acc: 0.8768 - Val Precision: 0.9548 - Val Recall: 0.7749\n"
     ]
    },
    {
     "name": "stderr",
     "output_type": "stream",
     "text": [
      "Epoch 3/20 - Train: 100%|████████| 203/203 [00:27<00:00,  7.39it/s, Loss=0.0965]\n",
      "Epoch 3/20 - Validation: 100%|██████| 26/26 [00:02<00:00, 12.17it/s, Loss=0.325]\n"
     ]
    },
    {
     "name": "stdout",
     "output_type": "stream",
     "text": [
      "The Best Model SAVED!\n",
      "Epoch 3/20 - Train Loss: 0.1946 - Train Acc: 0.9153 - Val Loss: 0.2391 - Val Acc: 0.8842 - Val Precision: 0.8243 - Val Recall: 0.9581\n"
     ]
    },
    {
     "name": "stderr",
     "output_type": "stream",
     "text": [
      "Epoch 4/20 - Train: 100%|█████████| 203/203 [00:27<00:00,  7.41it/s, Loss=0.489]\n",
      "Epoch 4/20 - Validation: 100%|████| 26/26 [00:02<00:00, 12.48it/s, Loss=0.00716]\n"
     ]
    },
    {
     "name": "stdout",
     "output_type": "stream",
     "text": [
      "The Best Model SAVED!\n",
      "Epoch 4/20 - Train Loss: 0.1535 - Train Acc: 0.9412 - Val Loss: 0.1449 - Val Acc: 0.9483 - Val Precision: 0.9722 - Val Recall: 0.9162\n"
     ]
    },
    {
     "name": "stderr",
     "output_type": "stream",
     "text": [
      "Epoch 5/20 - Train: 100%|█████████| 203/203 [00:27<00:00,  7.33it/s, Loss=0.404]\n",
      "Epoch 5/20 - Validation: 100%|██████| 26/26 [00:02<00:00, 12.17it/s, Loss=0.491]\n"
     ]
    },
    {
     "name": "stdout",
     "output_type": "stream",
     "text": [
      "Epoch 5/20 - Train Loss: 0.1272 - Train Acc: 0.9526 - Val Loss: 0.1878 - Val Acc: 0.9138 - Val Precision: 0.8714 - Val Recall: 0.9581\n"
     ]
    },
    {
     "name": "stderr",
     "output_type": "stream",
     "text": [
      "Epoch 6/20 - Train: 100%|████████| 203/203 [00:27<00:00,  7.39it/s, Loss=0.0154]\n",
      "Epoch 6/20 - Validation: 100%|█████| 26/26 [00:02<00:00, 12.14it/s, Loss=0.0635]\n"
     ]
    },
    {
     "name": "stdout",
     "output_type": "stream",
     "text": [
      "Epoch 6/20 - Train Loss: 0.1021 - Train Acc: 0.9606 - Val Loss: 0.2621 - Val Acc: 0.8744 - Val Precision: 0.7893 - Val Recall: 1.0000\n"
     ]
    },
    {
     "name": "stderr",
     "output_type": "stream",
     "text": [
      "Epoch 7/20 - Train: 100%|████████| 203/203 [00:27<00:00,  7.39it/s, Loss=0.0354]\n",
      "Epoch 7/20 - Validation: 100%|████| 26/26 [00:02<00:00, 12.11it/s, Loss=0.00143]\n"
     ]
    },
    {
     "name": "stdout",
     "output_type": "stream",
     "text": [
      "The Best Model SAVED!\n",
      "Epoch 7/20 - Train Loss: 0.1047 - Train Acc: 0.9594 - Val Loss: 0.0521 - Val Acc: 0.9778 - Val Precision: 0.9691 - Val Recall: 0.9843\n"
     ]
    },
    {
     "name": "stderr",
     "output_type": "stream",
     "text": [
      "Epoch 8/20 - Train: 100%|█████████| 203/203 [00:27<00:00,  7.32it/s, Loss=0.265]\n",
      "Epoch 8/20 - Validation: 100%|███████| 26/26 [00:02<00:00, 11.71it/s, Loss=1.01]\n"
     ]
    },
    {
     "name": "stdout",
     "output_type": "stream",
     "text": [
      "Epoch 8/20 - Train Loss: 0.0682 - Train Acc: 0.9732 - Val Loss: 0.1237 - Val Acc: 0.9557 - Val Precision: 0.9139 - Val Recall: 1.0000\n"
     ]
    },
    {
     "name": "stderr",
     "output_type": "stream",
     "text": [
      "Epoch 9/20 - Train: 100%|█████████| 203/203 [00:27<00:00,  7.41it/s, Loss=0.065]\n",
      "Epoch 9/20 - Validation: 100%|████| 26/26 [00:02<00:00, 11.73it/s, Loss=0.00647]\n"
     ]
    },
    {
     "name": "stdout",
     "output_type": "stream",
     "text": [
      "Epoch 9/20 - Train Loss: 0.0749 - Train Acc: 0.9714 - Val Loss: 0.0752 - Val Acc: 0.9778 - Val Precision: 0.9550 - Val Recall: 1.0000\n"
     ]
    },
    {
     "name": "stderr",
     "output_type": "stream",
     "text": [
      "Epoch 10/20 - Train: 100%|███████| 203/203 [00:27<00:00,  7.37it/s, Loss=0.0162]\n",
      "Epoch 10/20 - Validation: 100%|███| 26/26 [00:02<00:00, 11.60it/s, Loss=0.00345]\n"
     ]
    },
    {
     "name": "stdout",
     "output_type": "stream",
     "text": [
      "The Best Model SAVED!\n",
      "Epoch 10/20 - Train Loss: 0.0500 - Train Acc: 0.9840 - Val Loss: 0.0497 - Val Acc: 0.9852 - Val Precision: 0.9894 - Val Recall: 0.9791\n"
     ]
    },
    {
     "name": "stderr",
     "output_type": "stream",
     "text": [
      "Epoch 11/20 - Train: 100%|███████| 203/203 [00:27<00:00,  7.36it/s, Loss=0.0167]\n",
      "Epoch 11/20 - Validation: 100%|█████| 26/26 [00:02<00:00, 11.80it/s, Loss=0.015]\n"
     ]
    },
    {
     "name": "stdout",
     "output_type": "stream",
     "text": [
      "The Best Model SAVED!\n",
      "Epoch 11/20 - Train Loss: 0.0619 - Train Acc: 0.9794 - Val Loss: 0.0614 - Val Acc: 0.9877 - Val Precision: 0.9745 - Val Recall: 1.0000\n"
     ]
    },
    {
     "name": "stderr",
     "output_type": "stream",
     "text": [
      "Epoch 12/20 - Train: 100%|███████| 203/203 [00:27<00:00,  7.34it/s, Loss=0.0175]\n",
      "Epoch 12/20 - Validation: 100%|██| 26/26 [00:02<00:00, 11.34it/s, Loss=0.000659]\n"
     ]
    },
    {
     "name": "stdout",
     "output_type": "stream",
     "text": [
      "Epoch 12/20 - Train Loss: 0.0407 - Train Acc: 0.9843 - Val Loss: 0.0520 - Val Acc: 0.9803 - Val Precision: 0.9598 - Val Recall: 1.0000\n"
     ]
    },
    {
     "name": "stderr",
     "output_type": "stream",
     "text": [
      "Epoch 13/20 - Train: 100%|██████| 203/203 [00:27<00:00,  7.39it/s, Loss=0.00728]\n",
      "Epoch 13/20 - Validation: 100%|███| 26/26 [00:02<00:00, 12.35it/s, Loss=7.37e-5]\n"
     ]
    },
    {
     "name": "stdout",
     "output_type": "stream",
     "text": [
      "Epoch 13/20 - Train Loss: 0.0301 - Train Acc: 0.9905 - Val Loss: 0.0294 - Val Acc: 0.9852 - Val Precision: 0.9894 - Val Recall: 0.9791\n"
     ]
    },
    {
     "name": "stderr",
     "output_type": "stream",
     "text": [
      "Epoch 14/20 - Train: 100%|███████| 203/203 [00:27<00:00,  7.45it/s, Loss=0.0323]\n",
      "Epoch 14/20 - Validation: 100%|██| 26/26 [00:02<00:00, 12.03it/s, Loss=0.000312]\n"
     ]
    },
    {
     "name": "stdout",
     "output_type": "stream",
     "text": [
      "Epoch 14/20 - Train Loss: 0.0185 - Train Acc: 0.9929 - Val Loss: 0.0294 - Val Acc: 0.9877 - Val Precision: 0.9947 - Val Recall: 0.9791\n"
     ]
    },
    {
     "name": "stderr",
     "output_type": "stream",
     "text": [
      "Epoch 15/20 - Train: 100%|██████| 203/203 [00:27<00:00,  7.40it/s, Loss=0.00167]\n",
      "Epoch 15/20 - Validation: 100%|█████| 26/26 [00:02<00:00, 12.17it/s, Loss=0.526]\n"
     ]
    },
    {
     "name": "stdout",
     "output_type": "stream",
     "text": [
      "Epoch 15/20 - Train Loss: 0.0644 - Train Acc: 0.9821 - Val Loss: 0.0979 - Val Acc: 0.9655 - Val Precision: 0.9317 - Val Recall: 1.0000\n"
     ]
    },
    {
     "name": "stderr",
     "output_type": "stream",
     "text": [
      "Epoch 16/20 - Train: 100%|█████| 203/203 [00:27<00:00,  7.41it/s, Loss=0.000838]\n",
      "Epoch 16/20 - Validation: 100%|██| 26/26 [00:02<00:00, 12.13it/s, Loss=0.000167]\n"
     ]
    },
    {
     "name": "stdout",
     "output_type": "stream",
     "text": [
      "Epoch 16/20 - Train Loss: 0.0163 - Train Acc: 0.9942 - Val Loss: 0.1053 - Val Acc: 0.9729 - Val Precision: 0.9455 - Val Recall: 1.0000\n"
     ]
    },
    {
     "name": "stderr",
     "output_type": "stream",
     "text": [
      "Epoch 17/20 - Train: 100%|███████| 203/203 [00:27<00:00,  7.48it/s, Loss=0.0117]\n",
      "Epoch 17/20 - Validation: 100%|███| 26/26 [00:02<00:00, 12.20it/s, Loss=5.67e-6]\n"
     ]
    },
    {
     "name": "stdout",
     "output_type": "stream",
     "text": [
      "Epoch 17/20 - Train Loss: 0.0272 - Train Acc: 0.9883 - Val Loss: 0.0871 - Val Acc: 0.9754 - Val Precision: 0.9892 - Val Recall: 0.9581\n"
     ]
    },
    {
     "name": "stderr",
     "output_type": "stream",
     "text": [
      "Epoch 18/20 - Train: 100%|████████| 203/203 [00:27<00:00,  7.38it/s, Loss=0.088]\n",
      "Epoch 18/20 - Validation: 100%|████| 26/26 [00:02<00:00, 11.70it/s, Loss=0.0106]\n"
     ]
    },
    {
     "name": "stdout",
     "output_type": "stream",
     "text": [
      "Epoch 18/20 - Train Loss: 0.0103 - Train Acc: 0.9960 - Val Loss: 0.1794 - Val Acc: 0.9606 - Val Precision: 0.9227 - Val Recall: 1.0000\n"
     ]
    },
    {
     "name": "stderr",
     "output_type": "stream",
     "text": [
      "Epoch 19/20 - Train: 100%|███████| 203/203 [00:27<00:00,  7.43it/s, Loss=0.0167]\n",
      "Epoch 19/20 - Validation: 100%|████| 26/26 [00:02<00:00, 11.67it/s, Loss=0.0134]\n"
     ]
    },
    {
     "name": "stdout",
     "output_type": "stream",
     "text": [
      "The Best Model SAVED!\n",
      "Epoch 19/20 - Train Loss: 0.0165 - Train Acc: 0.9935 - Val Loss: 0.0186 - Val Acc: 0.9951 - Val Precision: 0.9948 - Val Recall: 0.9948\n"
     ]
    },
    {
     "name": "stderr",
     "output_type": "stream",
     "text": [
      "Epoch 20/20 - Train: 100%|████████| 203/203 [00:27<00:00,  7.27it/s, Loss=0.631]\n",
      "Epoch 20/20 - Validation: 100%|███| 26/26 [00:02<00:00, 11.85it/s, Loss=3.93e-5]\n"
     ]
    },
    {
     "name": "stdout",
     "output_type": "stream",
     "text": [
      "Epoch 20/20 - Train Loss: 0.0910 - Train Acc: 0.9821 - Val Loss: 0.0571 - Val Acc: 0.9778 - Val Precision: 0.9892 - Val Recall: 0.9634\n"
     ]
    }
   ],
   "source": [
    "# Define empty lists to store loss and accuracy values\n",
    "train_losses = []\n",
    "val_losses = []\n",
    "train_accuracies = []\n",
    "val_accuracies = []\n",
    "\n",
    "best_val_accuracy = 0.0  # Track the best validation accuracy\n",
    "best_model_state_dict = None  # Store the state dict of the best model\n",
    "\n",
    "print(\"---------Training phase----------\")\n",
    "\n",
    "num_epochs = 20\n",
    "for epoch in range(num_epochs):\n",
    "    # Training phase\n",
    "    model.train()\n",
    "    train_loss = 0.0\n",
    "    train_correct = 0\n",
    "\n",
    "    train_predictions = []\n",
    "    train_true_labels = []\n",
    "\n",
    "    with tqdm(train_loader, desc=f\"Epoch {epoch + 1}/{num_epochs} - Train\", ncols=80) as pbar_train:\n",
    "        for images, labels in train_loader:\n",
    "            images = images.to(device)\n",
    "            labels = labels.to(device)\n",
    "\n",
    "            optimizer.zero_grad()\n",
    "\n",
    "            outputs = model(images)\n",
    "            predicted = torch.round(outputs)\n",
    "            train_correct += (predicted == labels).sum().item()\n",
    "            train_predictions.extend(predicted.tolist())\n",
    "            train_true_labels.extend(labels.tolist())\n",
    "\n",
    "            loss = criterion(outputs, labels.float())\n",
    "\n",
    "            loss.backward()\n",
    "            optimizer.step()\n",
    "\n",
    "            train_loss += loss.item() * images.size(0)\n",
    "            pbar_train.set_postfix({'Loss': loss.item()})\n",
    "            pbar_train.update()\n",
    "\n",
    "    train_accuracy = train_correct / len(train_dataset)\n",
    "    train_loss /= len(train_dataset)\n",
    "\n",
    "    # Validation phase\n",
    "    model.eval()\n",
    "\n",
    "    val_correct = 0\n",
    "    val_loss = 0.0\n",
    "    val_predictions = []\n",
    "    val_true_labels = []\n",
    "\n",
    "    with tqdm(val_loader, desc=f\"Epoch {epoch + 1}/{num_epochs} - Validation\", ncols=80) as pbar_val:\n",
    "        with torch.no_grad():\n",
    "            for images, labels in val_loader:\n",
    "                images = images.to(device)\n",
    "                labels = labels.to(device)\n",
    "\n",
    "                outputs = model(images)\n",
    "\n",
    "                predicted = torch.round(outputs)\n",
    "                val_correct += (predicted == labels).sum().item()\n",
    "                val_predictions.extend(predicted.tolist())\n",
    "                val_true_labels.extend(labels.tolist())\n",
    "\n",
    "                loss = criterion(outputs, labels.float())\n",
    "                val_loss += loss.item() * images.size(0)\n",
    "                pbar_val.set_postfix({'Loss': loss.item()})\n",
    "                pbar_val.update()\n",
    "\n",
    "    val_accuracy = val_correct / len(val_dataset)\n",
    "    val_loss /= len(val_dataset)\n",
    "    val_precision = precision_score(val_true_labels, val_predictions)\n",
    "    val_recall = recall_score(val_true_labels, val_predictions)\n",
    "\n",
    "    # Append accuracy and loss to the respective lists\n",
    "    train_losses.append(train_loss)\n",
    "    val_losses.append(val_loss)\n",
    "    train_accuracies.append(train_accuracy)\n",
    "    val_accuracies.append(val_accuracy)\n",
    "\n",
    "    # Check if the current validation accuracy is better than the previous best\n",
    "    if val_accuracy > best_val_accuracy:\n",
    "        print(\"The Best Model SAVED!\")\n",
    "        best_val_accuracy = val_accuracy\n",
    "        best_model_state_dict = model.state_dict()\n",
    "\n",
    "    # Print epoch statistics\n",
    "    print(f\"Epoch {epoch + 1}/{num_epochs} - Train Loss: {train_loss:.4f} - Train Acc: {train_accuracy:.4f} - \"\n",
    "          f\"Val Loss: {val_loss:.4f} - Val Acc: {val_accuracy:.4f} - Val Precision: {val_precision:.4f} - \"\n",
    "          f\"Val Recall: {val_recall:.4f}\")\n",
    "\n",
    "# Save the best model's state dictionary\n",
    "torch.save(best_model_state_dict, './local_server_1_RESNET.pth')"
   ]
  },
  {
   "cell_type": "code",
   "execution_count": 25,
   "metadata": {},
   "outputs": [
    {
     "data": {
      "image/png": "[encoded data removed]",
      "text/plain": [
       "<Figure size 864x432 with 2 Axes>"
      ]
     },
     "metadata": {
      "needs_background": "light"
     },
     "output_type": "display_data"
    }
   ],
   "source": [
    "# Plotting the loss and accuracy curves\n",
    "plt.figure(figsize=(12, 6))\n",
    "plt.subplot(1, 2, 1)\n",
    "plt.plot(train_losses, label='Train')\n",
    "plt.plot(val_losses, label='Validation')\n",
    "plt.xlabel('Epoch')\n",
    "plt.ylabel('Loss')\n",
    "plt.title('Training and Validation Loss')\n",
    "plt.legend()\n",
    "\n",
    "plt.subplot(1, 2, 2)\n",
    "plt.plot(train_accuracies, label='Train')\n",
    "plt.plot(val_accuracies, label='Validation')\n",
    "plt.xlabel('Epoch')\n",
    "plt.ylabel('Accuracy')\n",
    "plt.title('Training and Validation Accuracy')\n",
    "plt.legend()\n",
    "\n",
    "plt.tight_layout()\n",
    "plt.show()"
   ]
  },
  {
   "cell_type": "code",
   "execution_count": 21,
   "metadata": {},
   "outputs": [],
   "source": [
    "import numpy as np\n",
    "from sklearn.metrics import accuracy_score, precision_score, recall_score, f1_score, confusion_matrix\n",
    "\n",
    "# Load the saved best model's state dictionary\n",
    "best_model_state_dict = torch.load('./local_server_1_RESNET.pth')\n",
    "\n",
    "# Set the best model's state dictionary to the model\n",
    "model.load_state_dict(best_model_state_dict)\n",
    "\n",
    "# Testing phase\n",
    "model.eval()\n",
    "test_predictions = []\n",
    "test_true_labels = []\n",
    "\n",
    "with torch.no_grad():\n",
    "    for images, labels in test_loader:\n",
    "        images = images.to(device)\n",
    "        labels = labels.to(device)\n",
    "\n",
    "        outputs = model(images)\n",
    "\n",
    "        predicted = torch.round(outputs)\n",
    "        test_predictions.extend(predicted.tolist())\n",
    "        test_true_labels.extend(labels.tolist())\n",
    "\n",
    "# Calculate performance metrics\n",
    "test_accuracy = accuracy_score(test_true_labels, test_predictions)\n",
    "test_precision = precision_score(test_true_labels, test_predictions)\n",
    "test_recall = recall_score(test_true_labels, test_predictions)\n",
    "test_f1_score = f1_score(test_true_labels, test_predictions)"
   ]
  },
  {
   "cell_type": "code",
   "execution_count": 27,
   "metadata": {},
   "outputs": [
    {
     "name": "stdout",
     "output_type": "stream",
     "text": [
      "Test Accuracy: 0.9828\n",
      "Test Precision: 0.9764\n",
      "Test Recall: 0.9904\n",
      "Test F1 Score: 0.9834\n"
     ]
    },
    {
     "data": {
      "image/png": "[encoded data removed]",
      "text/plain": [
       "<Figure size 432x432 with 1 Axes>"
      ]
     },
     "metadata": {
      "needs_background": "light"
     },
     "output_type": "display_data"
    }
   ],
   "source": [
    "import seaborn as sns\n",
    "\n",
    "# Print performance metrics\n",
    "print(f\"Test Accuracy: {test_accuracy:.4f}\")\n",
    "print(f\"Test Precision: {test_precision:.4f}\")\n",
    "print(f\"Test Recall: {test_recall:.4f}\")\n",
    "print(f\"Test F1 Score: {test_f1_score:.4f}\")\n",
    "\n",
    "# Create confusion matrix\n",
    "cm = confusion_matrix(test_true_labels, test_predictions)\n",
    "\n",
    "# Plot confusion matrix\n",
    "class_names = ['Negative', 'Positive']  # Modify class names based on your dataset\n",
    "plt.figure(figsize=(6, 6))\n",
    "sns.heatmap(cm, annot=True, fmt=\"d\", cmap=\"Blues\", cbar=False, square=True,\n",
    "            xticklabels=class_names, yticklabels=class_names)\n",
    "plt.xlabel('Predicted')\n",
    "plt.ylabel('True')\n",
    "plt.title('Confusion Matrix')\n",
    "plt.show()"
   ]
  },
  {
   "cell_type": "markdown",
   "metadata": {},
   "source": [
    "# AVG Global Model - Global Model Test"
   ]
  },
  {
   "cell_type": "code",
   "execution_count": 20,
   "metadata": {},
   "outputs": [],
   "source": [
    "model = ResNetClassifier().to(device)\n",
    "\n",
    "criterion = nn.BCELoss()\n",
    "optimizer = optim.Adam(model.parameters(), lr=0.000001)"
   ]
  },
  {
   "cell_type": "code",
   "execution_count": 22,
   "metadata": {},
   "outputs": [],
   "source": [
    "import numpy as np\n",
    "from sklearn.metrics import accuracy_score, precision_score, recall_score, f1_score, confusion_matrix\n",
    "\n",
    "gobal_model = ResNetClassifier().to(device)\n",
    "# Load the saved best model's state dictionary\n",
    "global_model_weights = torch.load('./AVG_global_model.pth')\n",
    "\n",
    "# Set the best model's state dictionary to the model\n",
    "gobal_model.load_state_dict(global_model_weights)\n",
    "\n",
    "# Testing phase\n",
    "gobal_model.eval()\n",
    "test_predictions = []\n",
    "test_true_labels = []\n",
    "\n",
    "with torch.no_grad():\n",
    "    for images, labels in test_loader:\n",
    "        images = images.to(device)\n",
    "        labels = labels.to(device)\n",
    "\n",
    "        outputs = gobal_model(images)\n",
    "\n",
    "        predicted = torch.round(outputs)\n",
    "        test_predictions.extend(predicted.tolist())\n",
    "        test_true_labels.extend(labels.tolist())\n",
    "\n",
    "# Calculate performance metrics\n",
    "test_accuracy = accuracy_score(test_true_labels, test_predictions)\n",
    "test_precision = precision_score(test_true_labels, test_predictions)\n",
    "test_recall = recall_score(test_true_labels, test_predictions)\n",
    "test_f1_score = f1_score(test_true_labels, test_predictions)"
   ]
  },
  {
   "cell_type": "code",
   "execution_count": 23,
   "metadata": {},
   "outputs": [
    {
     "name": "stdout",
     "output_type": "stream",
     "text": [
      "Test Accuracy: 0.7266\n",
      "Test Precision: 0.8311\n",
      "Test Recall: 0.5885\n",
      "Test F1 Score: 0.6891\n"
     ]
    },
    {
     "data": {
      "image/png": "[encoded data removed]",
      "text/plain": [
       "<Figure size 432x432 with 1 Axes>"
      ]
     },
     "metadata": {
      "needs_background": "light"
     },
     "output_type": "display_data"
    }
   ],
   "source": [
    "import seaborn as sns\n",
    "\n",
    "# Print performance metrics\n",
    "print(f\"Test Accuracy: {test_accuracy:.4f}\")\n",
    "print(f\"Test Precision: {test_precision:.4f}\")\n",
    "print(f\"Test Recall: {test_recall:.4f}\")\n",
    "print(f\"Test F1 Score: {test_f1_score:.4f}\")\n",
    "\n",
    "# Create confusion matrix\n",
    "cm = confusion_matrix(test_true_labels, test_predictions)\n",
    "\n",
    "# Plot confusion matrix\n",
    "class_names = ['Negative', 'Positive']  # Modify class names based on your dataset\n",
    "plt.figure(figsize=(6, 6))\n",
    "sns.heatmap(cm, annot=True, fmt=\"d\", cmap=\"Blues\", cbar=False, square=True,\n",
    "            xticklabels=class_names, yticklabels=class_names)\n",
    "plt.xlabel('Predicted')\n",
    "plt.ylabel('True')\n",
    "plt.title('Confusion Matrix')\n",
    "plt.show()"
   ]
  },
  {
   "cell_type": "markdown",
   "metadata": {},
   "source": [
    "# Global Model KD0 - Global Model Test"
   ]
  },
  {
   "cell_type": "code",
   "execution_count": 31,
   "metadata": {},
   "outputs": [],
   "source": [
    "import numpy as np\n",
    "from sklearn.metrics import accuracy_score, precision_score, recall_score, f1_score, confusion_matrix\n",
    "\n",
    "gobal_model = ResNetClassifier().to(device)\n",
    "# Load the saved best model's state dictionary\n",
    "global_model_weights = torch.load('./global_server_KD0_RESNET.pth')\n",
    "\n",
    "# Set the best model's state dictionary to the model\n",
    "gobal_model.load_state_dict(global_model_weights)\n",
    "\n",
    "# Testing phase\n",
    "gobal_model.eval()\n",
    "test_predictions = []\n",
    "test_true_labels = []\n",
    "\n",
    "with torch.no_grad():\n",
    "    for images, labels in test_loader:\n",
    "        images = images.to(device)\n",
    "        labels = labels.to(device)\n",
    "\n",
    "        outputs = gobal_model(images)\n",
    "\n",
    "        predicted = torch.round(outputs)\n",
    "        test_predictions.extend(predicted.tolist())\n",
    "        test_true_labels.extend(labels.tolist())\n",
    "\n",
    "# Calculate performance metrics\n",
    "test_accuracy = accuracy_score(test_true_labels, test_predictions)\n",
    "test_precision = precision_score(test_true_labels, test_predictions)\n",
    "test_recall = recall_score(test_true_labels, test_predictions)\n",
    "test_f1_score = f1_score(test_true_labels, test_predictions)"
   ]
  },
  {
   "cell_type": "code",
   "execution_count": 32,
   "metadata": {},
   "outputs": [
    {
     "name": "stdout",
     "output_type": "stream",
     "text": [
      "Test Accuracy: 0.7635\n",
      "Test Precision: 0.6852\n",
      "Test Recall: 1.0000\n",
      "Test F1 Score: 0.8132\n"
     ]
    },
    {
     "data": {
      "image/png": "[encoded data removed]",
      "text/plain": [
       "<Figure size 432x432 with 1 Axes>"
      ]
     },
     "metadata": {
      "needs_background": "light"
     },
     "output_type": "display_data"
    }
   ],
   "source": [
    "import seaborn as sns\n",
    "\n",
    "# Print performance metrics\n",
    "print(f\"Test Accuracy: {test_accuracy:.4f}\")\n",
    "print(f\"Test Precision: {test_precision:.4f}\")\n",
    "print(f\"Test Recall: {test_recall:.4f}\")\n",
    "print(f\"Test F1 Score: {test_f1_score:.4f}\")\n",
    "\n",
    "# Create confusion matrix\n",
    "cm = confusion_matrix(test_true_labels, test_predictions)\n",
    "\n",
    "# Plot confusion matrix\n",
    "class_names = ['Negative', 'Positive']  # Modify class names based on your dataset\n",
    "plt.figure(figsize=(6, 6))\n",
    "sns.heatmap(cm, annot=True, fmt=\"d\", cmap=\"Blues\", cbar=False, square=True,\n",
    "            xticklabels=class_names, yticklabels=class_names)\n",
    "plt.xlabel('Predicted')\n",
    "plt.ylabel('True')\n",
    "plt.title('Confusion Matrix')\n",
    "plt.show()"
   ]
  },
  {
   "cell_type": "markdown",
   "metadata": {},
   "source": [
    "# Global Model KD1 - Global Model Test"
   ]
  },
  {
   "cell_type": "code",
   "execution_count": 45,
   "metadata": {},
   "outputs": [],
   "source": [
    "model = ResNetClassifier().to(device)\n",
    "\n",
    "criterion = nn.BCELoss()\n",
    "optimizer = optim.Adam(model.parameters(), lr=0.001)"
   ]
  },
  {
   "cell_type": "code",
   "execution_count": 46,
   "metadata": {},
   "outputs": [
    {
     "name": "stdout",
     "output_type": "stream",
     "text": [
      "---------Training phase----------\n"
     ]
    },
    {
     "name": "stderr",
     "output_type": "stream",
     "text": [
      "Epoch 1/1 - Train:   0%|                                | 0/203 [00:00<?, ?it/s]"
     ]
    },
    {
     "name": "stderr",
     "output_type": "stream",
     "text": [
      "Epoch 1/1 - Train: 100%|██████████| 203/203 [00:48<00:00,  4.19it/s, Loss=0.166]\n",
      "Epoch 1/1 - Validation: 100%|██████| 26/26 [00:03<00:00,  8.59it/s, Loss=0.0299]\n"
     ]
    },
    {
     "name": "stdout",
     "output_type": "stream",
     "text": [
      "The Best Model SAVED!\n",
      "Epoch 1/1 - Train Loss: 0.3225 - Train Acc: 0.8504 - Val Loss: 0.3889 - Val Acc: 0.8498 - Val Precision: 0.9851 - Val Recall: 0.6911\n"
     ]
    }
   ],
   "source": [
    "# Define empty lists to store loss and accuracy values\n",
    "train_losses = []\n",
    "val_losses = []\n",
    "train_accuracies = []\n",
    "val_accuracies = []\n",
    "\n",
    "best_val_accuracy = 0.0  # Track the best validation accuracy\n",
    "best_model_state_dict = None  # Store the state dict of the best model\n",
    "\n",
    "print(\"---------Training phase----------\")\n",
    "\n",
    "num_epochs = 1\n",
    "for epoch in range(num_epochs):\n",
    "    # Training phase\n",
    "    model.train()\n",
    "    train_loss = 0.0\n",
    "    train_correct = 0\n",
    "\n",
    "    train_predictions = []\n",
    "    train_true_labels = []\n",
    "\n",
    "    with tqdm(train_loader, desc=f\"Epoch {epoch + 1}/{num_epochs} - Train\", ncols=80) as pbar_train:\n",
    "        for images, labels in train_loader:\n",
    "            images = images.to(device)\n",
    "            labels = labels.to(device)\n",
    "\n",
    "            optimizer.zero_grad()\n",
    "\n",
    "            outputs = model(images)\n",
    "            predicted = torch.round(outputs)\n",
    "            train_correct += (predicted == labels).sum().item()\n",
    "            train_predictions.extend(predicted.tolist())\n",
    "            train_true_labels.extend(labels.tolist())\n",
    "\n",
    "            loss = criterion(outputs, labels.float())\n",
    "\n",
    "            loss.backward()\n",
    "            optimizer.step()\n",
    "\n",
    "            train_loss += loss.item() * images.size(0)\n",
    "            pbar_train.set_postfix({'Loss': loss.item()})\n",
    "            pbar_train.update()\n",
    "\n",
    "    train_accuracy = train_correct / len(train_dataset)\n",
    "    train_loss /= len(train_dataset)\n",
    "\n",
    "    # Validation phase\n",
    "    model.eval()\n",
    "\n",
    "    val_correct = 0\n",
    "    val_loss = 0.0\n",
    "    val_predictions = []\n",
    "    val_true_labels = []\n",
    "\n",
    "    with tqdm(val_loader, desc=f\"Epoch {epoch + 1}/{num_epochs} - Validation\", ncols=80) as pbar_val:\n",
    "        with torch.no_grad():\n",
    "            for images, labels in val_loader:\n",
    "                images = images.to(device)\n",
    "                labels = labels.to(device)\n",
    "\n",
    "                outputs = model(images)\n",
    "\n",
    "                predicted = torch.round(outputs)\n",
    "                val_correct += (predicted == labels).sum().item()\n",
    "                val_predictions.extend(predicted.tolist())\n",
    "                val_true_labels.extend(labels.tolist())\n",
    "\n",
    "                loss = criterion(outputs, labels.float())\n",
    "                val_loss += loss.item() * images.size(0)\n",
    "                pbar_val.set_postfix({'Loss': loss.item()})\n",
    "                pbar_val.update()\n",
    "\n",
    "    val_accuracy = val_correct / len(val_dataset)\n",
    "    val_loss /= len(val_dataset)\n",
    "    val_precision = precision_score(val_true_labels, val_predictions)\n",
    "    val_recall = recall_score(val_true_labels, val_predictions)\n",
    "\n",
    "    # Append accuracy and loss to the respective lists\n",
    "    train_losses.append(train_loss)\n",
    "    val_losses.append(val_loss)\n",
    "    train_accuracies.append(train_accuracy)\n",
    "    val_accuracies.append(val_accuracy)\n",
    "\n",
    "    # Check if the current validation accuracy is better than the previous best\n",
    "    if val_accuracy > best_val_accuracy:\n",
    "        print(\"The Best Model SAVED!\")\n",
    "        best_val_accuracy = val_accuracy\n",
    "        best_model_state_dict = model.state_dict()\n",
    "\n",
    "    # Print epoch statistics\n",
    "    print(f\"Epoch {epoch + 1}/{num_epochs} - Train Loss: {train_loss:.4f} - Train Acc: {train_accuracy:.4f} - \"\n",
    "          f\"Val Loss: {val_loss:.4f} - Val Acc: {val_accuracy:.4f} - Val Precision: {val_precision:.4f} - \"\n",
    "          f\"Val Recall: {val_recall:.4f}\")\n",
    "\n",
    "# Save the best model's state dictionary\n",
    "torch.save(best_model_state_dict, './global_server_KD1_RESNET.pth')"
   ]
  },
  {
   "cell_type": "code",
   "execution_count": 47,
   "metadata": {},
   "outputs": [],
   "source": [
    "import numpy as np\n",
    "from sklearn.metrics import accuracy_score, precision_score, recall_score, f1_score, confusion_matrix\n",
    "\n",
    "gobal_model = ResNetClassifier().to(device)\n",
    "# Load the saved best model's state dictionary\n",
    "global_model_weights = torch.load('./global_server_KD1_RESNET.pth')\n",
    "\n",
    "# Set the best model's state dictionary to the model\n",
    "gobal_model.load_state_dict(global_model_weights)\n",
    "\n",
    "# Testing phase\n",
    "gobal_model.eval()\n",
    "test_predictions = []\n",
    "test_true_labels = []\n",
    "\n",
    "with torch.no_grad():\n",
    "    for images, labels in test_loader:\n",
    "        images = images.to(device)\n",
    "        labels = labels.to(device)\n",
    "\n",
    "        outputs = gobal_model(images)\n",
    "\n",
    "        predicted = torch.round(outputs)\n",
    "        test_predictions.extend(predicted.tolist())\n",
    "        test_true_labels.extend(labels.tolist())\n",
    "\n",
    "# Calculate performance metrics\n",
    "test_accuracy = accuracy_score(test_true_labels, test_predictions)\n",
    "test_precision = precision_score(test_true_labels, test_predictions)\n",
    "test_recall = recall_score(test_true_labels, test_predictions)\n",
    "test_f1_score = f1_score(test_true_labels, test_predictions)"
   ]
  },
  {
   "cell_type": "code",
   "execution_count": 39,
   "metadata": {},
   "outputs": [
    {
     "name": "stdout",
     "output_type": "stream",
     "text": [
      "Test Accuracy: 0.8768\n",
      "Test Precision: 0.8597\n",
      "Test Recall: 0.9091\n",
      "Test F1 Score: 0.8837\n"
     ]
    },
    {
     "data": {
      "image/png": "[encoded data removed]",
      "text/plain": [
       "<Figure size 432x432 with 1 Axes>"
      ]
     },
     "metadata": {
      "needs_background": "light"
     },
     "output_type": "display_data"
    }
   ],
   "source": [
    "import seaborn as sns\n",
    "\n",
    "# Print performance metrics\n",
    "print(f\"Test Accuracy: {test_accuracy:.4f}\")\n",
    "print(f\"Test Precision: {test_precision:.4f}\")\n",
    "print(f\"Test Recall: {test_recall:.4f}\")\n",
    "print(f\"Test F1 Score: {test_f1_score:.4f}\")\n",
    "\n",
    "# Create confusion matrix\n",
    "cm = confusion_matrix(test_true_labels, test_predictions)\n",
    "\n",
    "# Plot confusion matrix\n",
    "class_names = ['Negative', 'Positive']  # Modify class names based on your dataset\n",
    "plt.figure(figsize=(6, 6))\n",
    "sns.heatmap(cm, annot=True, fmt=\"d\", cmap=\"Blues\", cbar=False, square=True,\n",
    "            xticklabels=class_names, yticklabels=class_names)\n",
    "plt.xlabel('Predicted')\n",
    "plt.ylabel('True')\n",
    "plt.title('Confusion Matrix')\n",
    "plt.show()"
   ]
  },
  {
   "cell_type": "code",
   "execution_count": null,
   "metadata": {},
   "outputs": [],
   "source": []
  }
 ],
 "metadata": {
  "kernelspec": {
   "display_name": "Python 3",
   "language": "python",
   "name": "python3"
  },
  "language_info": {
   "codemirror_mode": {
    "name": "ipython",
    "version": 3
   },
   "file_extension": ".py",
   "mimetype": "text/x-python",
   "name": "python",
   "nbconvert_exporter": "python",
   "pygments_lexer": "ipython3",
   "version": "3.11.4"
  }
 },
 "nbformat": 4,
 "nbformat_minor": 2
}
